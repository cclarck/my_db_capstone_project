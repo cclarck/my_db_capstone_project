{
 "cells": [
  {
   "cell_type": "code",
   "execution_count": 13,
   "metadata": {},
   "outputs": [],
   "source": [
    "import mysql.connector as connector\n",
    "# input your MySQL account, password and databasename\n",
    "connection = connector.connect(user=\"\", password=\"\", db=\"\")"
   ]
  },
  {
   "cell_type": "code",
   "execution_count": 14,
   "metadata": {},
   "outputs": [
    {
     "name": "stdout",
     "output_type": "stream",
     "text": [
      "[('bookings',), ('customers',), ('menu',), ('menuItem',), ('orderDelivery',), ('orders',), ('staff',)]\n"
     ]
    }
   ],
   "source": [
    "show_table_query = \"SHOW tables\"\n",
    "cursor = connection.cursor()\n",
    "cursor.execute(show_table_query)\n",
    "results = cursor.fetchall()\n",
    "print(results)"
   ]
  },
  {
   "cell_type": "code",
   "execution_count": 15,
   "metadata": {},
   "outputs": [
    {
     "name": "stdout",
     "output_type": "stream",
     "text": [
      "[('Eric', 932345678)]\n"
     ]
    }
   ],
   "source": [
    "select_join_query = \"\"\"\n",
    "SELECT c.name\n",
    "     , c.contactNumber\n",
    "  FROM orders AS o\n",
    "  JOIN bookings AS b\n",
    "    ON o.bookingID = b.bookingID\n",
    "  JOIN customers AS c\n",
    "    ON c.customerID = b.customerID\n",
    " WHERE o.totalCost > 60;\n",
    "\"\"\"\n",
    "cursor.execute(select_join_query)\n",
    "results = cursor.fetchall()\n",
    "print(results)"
   ]
  }
 ],
 "metadata": {
  "kernelspec": {
   "display_name": "Python 3",
   "language": "python",
   "name": "python3"
  },
  "language_info": {
   "codemirror_mode": {
    "name": "ipython",
    "version": 3
   },
   "file_extension": ".py",
   "mimetype": "text/x-python",
   "name": "python",
   "nbconvert_exporter": "python",
   "pygments_lexer": "ipython3",
   "version": "3.11.4"
  },
  "orig_nbformat": 4
 },
 "nbformat": 4,
 "nbformat_minor": 2
}
